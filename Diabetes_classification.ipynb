{
  "nbformat": 4,
  "nbformat_minor": 0,
  "metadata": {
    "colab": {
      "name": "Diabetes classification.ipynb",
      "provenance": [],
      "collapsed_sections": []
    },
    "kernelspec": {
      "name": "python3",
      "display_name": "Python 3"
    },
    "language_info": {
      "name": "python"
    }
  },
  "cells": [
    {
      "cell_type": "code",
      "execution_count": null,
      "metadata": {
        "id": "nKJlpAT1Gu6M"
      },
      "outputs": [],
      "source": [
        "import numpy as np\n",
        "import pandas as pd\n",
        "import warnings\n",
        "warnings.filterwarnings(\"ignore\")"
      ]
    },
    {
      "cell_type": "code",
      "source": [
        "df=pd.read_csv(\"/content/drive/MyDrive/Colab Notebooks/Refined.csv\")\n",
        "df"
      ],
      "metadata": {
        "colab": {
          "base_uri": "https://localhost:8080/",
          "height": 505
        },
        "id": "mzpUNFZzGzgb",
        "outputId": "22bf9a39-17e7-45c6-f4f6-afdd2acb1309"
      },
      "execution_count": null,
      "outputs": [
        {
          "output_type": "execute_result",
          "data": {
            "text/plain": [
              "       Unnamed: 0  race  gender  age  time_in_hospital  num_lab_procedures  \\\n",
              "0               1     1       0    2                 3                  59   \n",
              "1               2     2       0    3                 2                  11   \n",
              "2               3     1       1    4                 2                  44   \n",
              "3               4     1       1    5                 1                  51   \n",
              "4               5     1       1    6                 3                  31   \n",
              "...           ...   ...     ...  ...               ...                 ...   \n",
              "98047      101761     2       1    8                 3                  51   \n",
              "98048      101762     2       0    9                 5                  33   \n",
              "98049      101763     1       1    8                 1                  53   \n",
              "98050      101764     1       0    9                10                  45   \n",
              "98051      101765     1       1    8                 6                  13   \n",
              "\n",
              "       num_procedures  num_medications  number_emergency  diag_1  diag_2  \\\n",
              "0                   0               18                 0  276.00  250.01   \n",
              "1                   5               13                 0  648.00  250.00   \n",
              "2                   1               16                 0    8.00  250.43   \n",
              "3                   0                8                 0  197.00  157.00   \n",
              "4                   6               16                 0  414.00  411.00   \n",
              "...               ...              ...               ...     ...     ...   \n",
              "98047               0               16                 0  250.13  291.00   \n",
              "98048               3               18                 0  560.00  276.00   \n",
              "98049               0                9                 0   38.00  590.00   \n",
              "98050               2               21                 0  996.00  285.00   \n",
              "98051               3                3                 0  530.00  530.00   \n",
              "\n",
              "       diag_3  change  diabetesMed  readmitted  \n",
              "0       255.0       1            1           0  \n",
              "1        18.0       0            1           0  \n",
              "2       403.0       1            1           0  \n",
              "3       250.0       1            1           0  \n",
              "4       250.0       0            1           0  \n",
              "...       ...     ...          ...         ...  \n",
              "98047   458.0       1            1           0  \n",
              "98048   787.0       0            1           0  \n",
              "98049   296.0       1            1           0  \n",
              "98050   998.0       1            1           0  \n",
              "98051   787.0       0            0           0  \n",
              "\n",
              "[98052 rows x 15 columns]"
            ],
            "text/html": [
              "\n",
              "  <div id=\"df-cd4b1c47-2c26-4d02-b58d-487242b7a79a\">\n",
              "    <div class=\"colab-df-container\">\n",
              "      <div>\n",
              "<style scoped>\n",
              "    .dataframe tbody tr th:only-of-type {\n",
              "        vertical-align: middle;\n",
              "    }\n",
              "\n",
              "    .dataframe tbody tr th {\n",
              "        vertical-align: top;\n",
              "    }\n",
              "\n",
              "    .dataframe thead th {\n",
              "        text-align: right;\n",
              "    }\n",
              "</style>\n",
              "<table border=\"1\" class=\"dataframe\">\n",
              "  <thead>\n",
              "    <tr style=\"text-align: right;\">\n",
              "      <th></th>\n",
              "      <th>Unnamed: 0</th>\n",
              "      <th>race</th>\n",
              "      <th>gender</th>\n",
              "      <th>age</th>\n",
              "      <th>time_in_hospital</th>\n",
              "      <th>num_lab_procedures</th>\n",
              "      <th>num_procedures</th>\n",
              "      <th>num_medications</th>\n",
              "      <th>number_emergency</th>\n",
              "      <th>diag_1</th>\n",
              "      <th>diag_2</th>\n",
              "      <th>diag_3</th>\n",
              "      <th>change</th>\n",
              "      <th>diabetesMed</th>\n",
              "      <th>readmitted</th>\n",
              "    </tr>\n",
              "  </thead>\n",
              "  <tbody>\n",
              "    <tr>\n",
              "      <th>0</th>\n",
              "      <td>1</td>\n",
              "      <td>1</td>\n",
              "      <td>0</td>\n",
              "      <td>2</td>\n",
              "      <td>3</td>\n",
              "      <td>59</td>\n",
              "      <td>0</td>\n",
              "      <td>18</td>\n",
              "      <td>0</td>\n",
              "      <td>276.00</td>\n",
              "      <td>250.01</td>\n",
              "      <td>255.0</td>\n",
              "      <td>1</td>\n",
              "      <td>1</td>\n",
              "      <td>0</td>\n",
              "    </tr>\n",
              "    <tr>\n",
              "      <th>1</th>\n",
              "      <td>2</td>\n",
              "      <td>2</td>\n",
              "      <td>0</td>\n",
              "      <td>3</td>\n",
              "      <td>2</td>\n",
              "      <td>11</td>\n",
              "      <td>5</td>\n",
              "      <td>13</td>\n",
              "      <td>0</td>\n",
              "      <td>648.00</td>\n",
              "      <td>250.00</td>\n",
              "      <td>18.0</td>\n",
              "      <td>0</td>\n",
              "      <td>1</td>\n",
              "      <td>0</td>\n",
              "    </tr>\n",
              "    <tr>\n",
              "      <th>2</th>\n",
              "      <td>3</td>\n",
              "      <td>1</td>\n",
              "      <td>1</td>\n",
              "      <td>4</td>\n",
              "      <td>2</td>\n",
              "      <td>44</td>\n",
              "      <td>1</td>\n",
              "      <td>16</td>\n",
              "      <td>0</td>\n",
              "      <td>8.00</td>\n",
              "      <td>250.43</td>\n",
              "      <td>403.0</td>\n",
              "      <td>1</td>\n",
              "      <td>1</td>\n",
              "      <td>0</td>\n",
              "    </tr>\n",
              "    <tr>\n",
              "      <th>3</th>\n",
              "      <td>4</td>\n",
              "      <td>1</td>\n",
              "      <td>1</td>\n",
              "      <td>5</td>\n",
              "      <td>1</td>\n",
              "      <td>51</td>\n",
              "      <td>0</td>\n",
              "      <td>8</td>\n",
              "      <td>0</td>\n",
              "      <td>197.00</td>\n",
              "      <td>157.00</td>\n",
              "      <td>250.0</td>\n",
              "      <td>1</td>\n",
              "      <td>1</td>\n",
              "      <td>0</td>\n",
              "    </tr>\n",
              "    <tr>\n",
              "      <th>4</th>\n",
              "      <td>5</td>\n",
              "      <td>1</td>\n",
              "      <td>1</td>\n",
              "      <td>6</td>\n",
              "      <td>3</td>\n",
              "      <td>31</td>\n",
              "      <td>6</td>\n",
              "      <td>16</td>\n",
              "      <td>0</td>\n",
              "      <td>414.00</td>\n",
              "      <td>411.00</td>\n",
              "      <td>250.0</td>\n",
              "      <td>0</td>\n",
              "      <td>1</td>\n",
              "      <td>0</td>\n",
              "    </tr>\n",
              "    <tr>\n",
              "      <th>...</th>\n",
              "      <td>...</td>\n",
              "      <td>...</td>\n",
              "      <td>...</td>\n",
              "      <td>...</td>\n",
              "      <td>...</td>\n",
              "      <td>...</td>\n",
              "      <td>...</td>\n",
              "      <td>...</td>\n",
              "      <td>...</td>\n",
              "      <td>...</td>\n",
              "      <td>...</td>\n",
              "      <td>...</td>\n",
              "      <td>...</td>\n",
              "      <td>...</td>\n",
              "      <td>...</td>\n",
              "    </tr>\n",
              "    <tr>\n",
              "      <th>98047</th>\n",
              "      <td>101761</td>\n",
              "      <td>2</td>\n",
              "      <td>1</td>\n",
              "      <td>8</td>\n",
              "      <td>3</td>\n",
              "      <td>51</td>\n",
              "      <td>0</td>\n",
              "      <td>16</td>\n",
              "      <td>0</td>\n",
              "      <td>250.13</td>\n",
              "      <td>291.00</td>\n",
              "      <td>458.0</td>\n",
              "      <td>1</td>\n",
              "      <td>1</td>\n",
              "      <td>0</td>\n",
              "    </tr>\n",
              "    <tr>\n",
              "      <th>98048</th>\n",
              "      <td>101762</td>\n",
              "      <td>2</td>\n",
              "      <td>0</td>\n",
              "      <td>9</td>\n",
              "      <td>5</td>\n",
              "      <td>33</td>\n",
              "      <td>3</td>\n",
              "      <td>18</td>\n",
              "      <td>0</td>\n",
              "      <td>560.00</td>\n",
              "      <td>276.00</td>\n",
              "      <td>787.0</td>\n",
              "      <td>0</td>\n",
              "      <td>1</td>\n",
              "      <td>0</td>\n",
              "    </tr>\n",
              "    <tr>\n",
              "      <th>98049</th>\n",
              "      <td>101763</td>\n",
              "      <td>1</td>\n",
              "      <td>1</td>\n",
              "      <td>8</td>\n",
              "      <td>1</td>\n",
              "      <td>53</td>\n",
              "      <td>0</td>\n",
              "      <td>9</td>\n",
              "      <td>0</td>\n",
              "      <td>38.00</td>\n",
              "      <td>590.00</td>\n",
              "      <td>296.0</td>\n",
              "      <td>1</td>\n",
              "      <td>1</td>\n",
              "      <td>0</td>\n",
              "    </tr>\n",
              "    <tr>\n",
              "      <th>98050</th>\n",
              "      <td>101764</td>\n",
              "      <td>1</td>\n",
              "      <td>0</td>\n",
              "      <td>9</td>\n",
              "      <td>10</td>\n",
              "      <td>45</td>\n",
              "      <td>2</td>\n",
              "      <td>21</td>\n",
              "      <td>0</td>\n",
              "      <td>996.00</td>\n",
              "      <td>285.00</td>\n",
              "      <td>998.0</td>\n",
              "      <td>1</td>\n",
              "      <td>1</td>\n",
              "      <td>0</td>\n",
              "    </tr>\n",
              "    <tr>\n",
              "      <th>98051</th>\n",
              "      <td>101765</td>\n",
              "      <td>1</td>\n",
              "      <td>1</td>\n",
              "      <td>8</td>\n",
              "      <td>6</td>\n",
              "      <td>13</td>\n",
              "      <td>3</td>\n",
              "      <td>3</td>\n",
              "      <td>0</td>\n",
              "      <td>530.00</td>\n",
              "      <td>530.00</td>\n",
              "      <td>787.0</td>\n",
              "      <td>0</td>\n",
              "      <td>0</td>\n",
              "      <td>0</td>\n",
              "    </tr>\n",
              "  </tbody>\n",
              "</table>\n",
              "<p>98052 rows × 15 columns</p>\n",
              "</div>\n",
              "      <button class=\"colab-df-convert\" onclick=\"convertToInteractive('df-cd4b1c47-2c26-4d02-b58d-487242b7a79a')\"\n",
              "              title=\"Convert this dataframe to an interactive table.\"\n",
              "              style=\"display:none;\">\n",
              "        \n",
              "  <svg xmlns=\"http://www.w3.org/2000/svg\" height=\"24px\"viewBox=\"0 0 24 24\"\n",
              "       width=\"24px\">\n",
              "    <path d=\"M0 0h24v24H0V0z\" fill=\"none\"/>\n",
              "    <path d=\"M18.56 5.44l.94 2.06.94-2.06 2.06-.94-2.06-.94-.94-2.06-.94 2.06-2.06.94zm-11 1L8.5 8.5l.94-2.06 2.06-.94-2.06-.94L8.5 2.5l-.94 2.06-2.06.94zm10 10l.94 2.06.94-2.06 2.06-.94-2.06-.94-.94-2.06-.94 2.06-2.06.94z\"/><path d=\"M17.41 7.96l-1.37-1.37c-.4-.4-.92-.59-1.43-.59-.52 0-1.04.2-1.43.59L10.3 9.45l-7.72 7.72c-.78.78-.78 2.05 0 2.83L4 21.41c.39.39.9.59 1.41.59.51 0 1.02-.2 1.41-.59l7.78-7.78 2.81-2.81c.8-.78.8-2.07 0-2.86zM5.41 20L4 18.59l7.72-7.72 1.47 1.35L5.41 20z\"/>\n",
              "  </svg>\n",
              "      </button>\n",
              "      \n",
              "  <style>\n",
              "    .colab-df-container {\n",
              "      display:flex;\n",
              "      flex-wrap:wrap;\n",
              "      gap: 12px;\n",
              "    }\n",
              "\n",
              "    .colab-df-convert {\n",
              "      background-color: #E8F0FE;\n",
              "      border: none;\n",
              "      border-radius: 50%;\n",
              "      cursor: pointer;\n",
              "      display: none;\n",
              "      fill: #1967D2;\n",
              "      height: 32px;\n",
              "      padding: 0 0 0 0;\n",
              "      width: 32px;\n",
              "    }\n",
              "\n",
              "    .colab-df-convert:hover {\n",
              "      background-color: #E2EBFA;\n",
              "      box-shadow: 0px 1px 2px rgba(60, 64, 67, 0.3), 0px 1px 3px 1px rgba(60, 64, 67, 0.15);\n",
              "      fill: #174EA6;\n",
              "    }\n",
              "\n",
              "    [theme=dark] .colab-df-convert {\n",
              "      background-color: #3B4455;\n",
              "      fill: #D2E3FC;\n",
              "    }\n",
              "\n",
              "    [theme=dark] .colab-df-convert:hover {\n",
              "      background-color: #434B5C;\n",
              "      box-shadow: 0px 1px 3px 1px rgba(0, 0, 0, 0.15);\n",
              "      filter: drop-shadow(0px 1px 2px rgba(0, 0, 0, 0.3));\n",
              "      fill: #FFFFFF;\n",
              "    }\n",
              "  </style>\n",
              "\n",
              "      <script>\n",
              "        const buttonEl =\n",
              "          document.querySelector('#df-cd4b1c47-2c26-4d02-b58d-487242b7a79a button.colab-df-convert');\n",
              "        buttonEl.style.display =\n",
              "          google.colab.kernel.accessAllowed ? 'block' : 'none';\n",
              "\n",
              "        async function convertToInteractive(key) {\n",
              "          const element = document.querySelector('#df-cd4b1c47-2c26-4d02-b58d-487242b7a79a');\n",
              "          const dataTable =\n",
              "            await google.colab.kernel.invokeFunction('convertToInteractive',\n",
              "                                                     [key], {});\n",
              "          if (!dataTable) return;\n",
              "\n",
              "          const docLinkHtml = 'Like what you see? Visit the ' +\n",
              "            '<a target=\"_blank\" href=https://colab.research.google.com/notebooks/data_table.ipynb>data table notebook</a>'\n",
              "            + ' to learn more about interactive tables.';\n",
              "          element.innerHTML = '';\n",
              "          dataTable['output_type'] = 'display_data';\n",
              "          await google.colab.output.renderOutput(dataTable, element);\n",
              "          const docLink = document.createElement('div');\n",
              "          docLink.innerHTML = docLinkHtml;\n",
              "          element.appendChild(docLink);\n",
              "        }\n",
              "      </script>\n",
              "    </div>\n",
              "  </div>\n",
              "  "
            ]
          },
          "metadata": {},
          "execution_count": 839
        }
      ]
    },
    {
      "cell_type": "code",
      "source": [
        "df[\"diag_1\"].value_counts()\n",
        "df[\"diag_1\"]=df[\"diag_1\"].drop(df[df[\"diag_1\"]==\"?\"].index,axis=0)\n",
        "df[\"diag_2\"]=df[\"diag_2\"].drop(df[df[\"diag_2\"]==\"?\"].index,axis=0)\n",
        "df[\"diag_3\"]=df[\"diag_3\"].drop(df[df[\"diag_3\"]==\"?\"].index,axis=0)"
      ],
      "metadata": {
        "id": "hwCJH-ow3sCW"
      },
      "execution_count": null,
      "outputs": []
    },
    {
      "cell_type": "code",
      "source": [
        "df[\"diag_1\"]=df[\"diag_1\"].astype(float)\n",
        "df[\"diag_2\"]=df[\"diag_2\"].astype(float)\n",
        "df[\"diag_3\"]=df[\"diag_3\"].astype(float)\n",
        "df=df.dropna()"
      ],
      "metadata": {
        "id": "gmpLYxNs4Jts"
      },
      "execution_count": null,
      "outputs": []
    },
    {
      "cell_type": "code",
      "source": [
        "df[\"diag_1\"]=df[\"diag_1\"].apply(lambda x:0 if x<=139 else x)\n"
      ],
      "metadata": {
        "id": "Xg5B_Ce24K0G"
      },
      "execution_count": null,
      "outputs": []
    },
    {
      "cell_type": "code",
      "source": [
        "df[\"diag_1\"]=df[\"diag_1\"].apply(lambda x:1 if  x>140 and x<=239 else x)\n"
      ],
      "metadata": {
        "id": "Trx5ZoO68AUE"
      },
      "execution_count": null,
      "outputs": []
    },
    {
      "cell_type": "code",
      "source": [
        "df[\"diag_1\"]=df[\"diag_1\"].apply(lambda x:2 if  x>239 and x<=279 else x)\n"
      ],
      "metadata": {
        "id": "xtLjQIUM8zyT"
      },
      "execution_count": null,
      "outputs": []
    },
    {
      "cell_type": "code",
      "source": [
        "df[\"diag_1\"]=df[\"diag_1\"].apply(lambda x:3 if  x>279 and x<=289 else x)"
      ],
      "metadata": {
        "id": "zZHWVhEq_8qN"
      },
      "execution_count": null,
      "outputs": []
    },
    {
      "cell_type": "code",
      "source": [
        "df[\"diag_1\"]=df[\"diag_1\"].apply(lambda x:4 if  x>289 and x<=319 else x)"
      ],
      "metadata": {
        "id": "pHvpIk0gAOzG"
      },
      "execution_count": null,
      "outputs": []
    },
    {
      "cell_type": "code",
      "source": [
        "df[\"diag_1\"]=df[\"diag_1\"].apply(lambda x:5 if  x>319 and x<=389 else x)"
      ],
      "metadata": {
        "id": "OPhcI7oFAbTG"
      },
      "execution_count": null,
      "outputs": []
    },
    {
      "cell_type": "code",
      "source": [
        "df[\"diag_1\"]=df[\"diag_1\"].apply(lambda x:6 if  x>389 and x<=459 else x)"
      ],
      "metadata": {
        "id": "S_vWul0fA3WO"
      },
      "execution_count": null,
      "outputs": []
    },
    {
      "cell_type": "code",
      "source": [
        "df[\"diag_1\"]=df[\"diag_1\"].apply(lambda x:7 if  x>459 and x<=519 else x)"
      ],
      "metadata": {
        "id": "9ihAfyk3A_gM"
      },
      "execution_count": null,
      "outputs": []
    },
    {
      "cell_type": "code",
      "source": [
        "df[\"diag_1\"]=df[\"diag_1\"].apply(lambda x:8 if  x>519 and x<=579 else x)"
      ],
      "metadata": {
        "id": "FXXh9rP7BOV1"
      },
      "execution_count": null,
      "outputs": []
    },
    {
      "cell_type": "code",
      "source": [
        "df[\"diag_1\"]=df[\"diag_1\"].apply(lambda x:9 if  x>=580 and x<=629 else x)\n",
        "df[\"diag_1\"]=df[\"diag_1\"].apply(lambda x:10 if  x>=630 and x<=679 else x)\n",
        "df[\"diag_1\"]=df[\"diag_1\"].apply(lambda x:11 if  x>=680 and x<=709 else x)\n",
        "df[\"diag_1\"]=df[\"diag_1\"].apply(lambda x:12 if  x>=710 and x<=739 else x)\n",
        "df[\"diag_1\"]=df[\"diag_1\"].apply(lambda x:13 if  x>=740 and x<=759 else x)\n",
        "df[\"diag_1\"]=df[\"diag_1\"].apply(lambda x:14 if  x>=760 and x<=779 else x)\n",
        "df[\"diag_1\"]=df[\"diag_1\"].apply(lambda x:15 if  x>=780 and x<=799 else x)\n",
        "df[\"diag_1\"]=df[\"diag_1\"].apply(lambda x:16 if  x>=800 and x<=999 else x)\n",
        "df"
      ],
      "metadata": {
        "colab": {
          "base_uri": "https://localhost:8080/",
          "height": 505
        },
        "id": "o_ybvYpoCE_i",
        "outputId": "b26eda97-0f27-4d83-ca59-9b2928b6a3a0"
      },
      "execution_count": null,
      "outputs": [
        {
          "output_type": "execute_result",
          "data": {
            "text/plain": [
              "       Unnamed: 0  race  gender  age  time_in_hospital  num_lab_procedures  \\\n",
              "0               1     1       0    2                 3                  59   \n",
              "1               2     2       0    3                 2                  11   \n",
              "2               3     1       1    4                 2                  44   \n",
              "3               4     1       1    5                 1                  51   \n",
              "4               5     1       1    6                 3                  31   \n",
              "...           ...   ...     ...  ...               ...                 ...   \n",
              "98047      101761     2       1    8                 3                  51   \n",
              "98048      101762     2       0    9                 5                  33   \n",
              "98049      101763     1       1    8                 1                  53   \n",
              "98050      101764     1       0    9                10                  45   \n",
              "98051      101765     1       1    8                 6                  13   \n",
              "\n",
              "       num_procedures  num_medications  number_emergency  diag_1  diag_2  \\\n",
              "0                   0               18                 0     2.0  250.01   \n",
              "1                   5               13                 0    10.0  250.00   \n",
              "2                   1               16                 0     0.0  250.43   \n",
              "3                   0                8                 0     1.0  157.00   \n",
              "4                   6               16                 0     6.0  411.00   \n",
              "...               ...              ...               ...     ...     ...   \n",
              "98047               0               16                 0     2.0  291.00   \n",
              "98048               3               18                 0     8.0  276.00   \n",
              "98049               0                9                 0     0.0  590.00   \n",
              "98050               2               21                 0    16.0  285.00   \n",
              "98051               3                3                 0     8.0  530.00   \n",
              "\n",
              "       diag_3  change  diabetesMed  readmitted  \n",
              "0       255.0       1            1           0  \n",
              "1        18.0       0            1           0  \n",
              "2       403.0       1            1           0  \n",
              "3       250.0       1            1           0  \n",
              "4       250.0       0            1           0  \n",
              "...       ...     ...          ...         ...  \n",
              "98047   458.0       1            1           0  \n",
              "98048   787.0       0            1           0  \n",
              "98049   296.0       1            1           0  \n",
              "98050   998.0       1            1           0  \n",
              "98051   787.0       0            0           0  \n",
              "\n",
              "[98052 rows x 15 columns]"
            ],
            "text/html": [
              "\n",
              "  <div id=\"df-1f75f8eb-cfd3-414f-88ca-27b612a2b3f7\">\n",
              "    <div class=\"colab-df-container\">\n",
              "      <div>\n",
              "<style scoped>\n",
              "    .dataframe tbody tr th:only-of-type {\n",
              "        vertical-align: middle;\n",
              "    }\n",
              "\n",
              "    .dataframe tbody tr th {\n",
              "        vertical-align: top;\n",
              "    }\n",
              "\n",
              "    .dataframe thead th {\n",
              "        text-align: right;\n",
              "    }\n",
              "</style>\n",
              "<table border=\"1\" class=\"dataframe\">\n",
              "  <thead>\n",
              "    <tr style=\"text-align: right;\">\n",
              "      <th></th>\n",
              "      <th>Unnamed: 0</th>\n",
              "      <th>race</th>\n",
              "      <th>gender</th>\n",
              "      <th>age</th>\n",
              "      <th>time_in_hospital</th>\n",
              "      <th>num_lab_procedures</th>\n",
              "      <th>num_procedures</th>\n",
              "      <th>num_medications</th>\n",
              "      <th>number_emergency</th>\n",
              "      <th>diag_1</th>\n",
              "      <th>diag_2</th>\n",
              "      <th>diag_3</th>\n",
              "      <th>change</th>\n",
              "      <th>diabetesMed</th>\n",
              "      <th>readmitted</th>\n",
              "    </tr>\n",
              "  </thead>\n",
              "  <tbody>\n",
              "    <tr>\n",
              "      <th>0</th>\n",
              "      <td>1</td>\n",
              "      <td>1</td>\n",
              "      <td>0</td>\n",
              "      <td>2</td>\n",
              "      <td>3</td>\n",
              "      <td>59</td>\n",
              "      <td>0</td>\n",
              "      <td>18</td>\n",
              "      <td>0</td>\n",
              "      <td>2.0</td>\n",
              "      <td>250.01</td>\n",
              "      <td>255.0</td>\n",
              "      <td>1</td>\n",
              "      <td>1</td>\n",
              "      <td>0</td>\n",
              "    </tr>\n",
              "    <tr>\n",
              "      <th>1</th>\n",
              "      <td>2</td>\n",
              "      <td>2</td>\n",
              "      <td>0</td>\n",
              "      <td>3</td>\n",
              "      <td>2</td>\n",
              "      <td>11</td>\n",
              "      <td>5</td>\n",
              "      <td>13</td>\n",
              "      <td>0</td>\n",
              "      <td>10.0</td>\n",
              "      <td>250.00</td>\n",
              "      <td>18.0</td>\n",
              "      <td>0</td>\n",
              "      <td>1</td>\n",
              "      <td>0</td>\n",
              "    </tr>\n",
              "    <tr>\n",
              "      <th>2</th>\n",
              "      <td>3</td>\n",
              "      <td>1</td>\n",
              "      <td>1</td>\n",
              "      <td>4</td>\n",
              "      <td>2</td>\n",
              "      <td>44</td>\n",
              "      <td>1</td>\n",
              "      <td>16</td>\n",
              "      <td>0</td>\n",
              "      <td>0.0</td>\n",
              "      <td>250.43</td>\n",
              "      <td>403.0</td>\n",
              "      <td>1</td>\n",
              "      <td>1</td>\n",
              "      <td>0</td>\n",
              "    </tr>\n",
              "    <tr>\n",
              "      <th>3</th>\n",
              "      <td>4</td>\n",
              "      <td>1</td>\n",
              "      <td>1</td>\n",
              "      <td>5</td>\n",
              "      <td>1</td>\n",
              "      <td>51</td>\n",
              "      <td>0</td>\n",
              "      <td>8</td>\n",
              "      <td>0</td>\n",
              "      <td>1.0</td>\n",
              "      <td>157.00</td>\n",
              "      <td>250.0</td>\n",
              "      <td>1</td>\n",
              "      <td>1</td>\n",
              "      <td>0</td>\n",
              "    </tr>\n",
              "    <tr>\n",
              "      <th>4</th>\n",
              "      <td>5</td>\n",
              "      <td>1</td>\n",
              "      <td>1</td>\n",
              "      <td>6</td>\n",
              "      <td>3</td>\n",
              "      <td>31</td>\n",
              "      <td>6</td>\n",
              "      <td>16</td>\n",
              "      <td>0</td>\n",
              "      <td>6.0</td>\n",
              "      <td>411.00</td>\n",
              "      <td>250.0</td>\n",
              "      <td>0</td>\n",
              "      <td>1</td>\n",
              "      <td>0</td>\n",
              "    </tr>\n",
              "    <tr>\n",
              "      <th>...</th>\n",
              "      <td>...</td>\n",
              "      <td>...</td>\n",
              "      <td>...</td>\n",
              "      <td>...</td>\n",
              "      <td>...</td>\n",
              "      <td>...</td>\n",
              "      <td>...</td>\n",
              "      <td>...</td>\n",
              "      <td>...</td>\n",
              "      <td>...</td>\n",
              "      <td>...</td>\n",
              "      <td>...</td>\n",
              "      <td>...</td>\n",
              "      <td>...</td>\n",
              "      <td>...</td>\n",
              "    </tr>\n",
              "    <tr>\n",
              "      <th>98047</th>\n",
              "      <td>101761</td>\n",
              "      <td>2</td>\n",
              "      <td>1</td>\n",
              "      <td>8</td>\n",
              "      <td>3</td>\n",
              "      <td>51</td>\n",
              "      <td>0</td>\n",
              "      <td>16</td>\n",
              "      <td>0</td>\n",
              "      <td>2.0</td>\n",
              "      <td>291.00</td>\n",
              "      <td>458.0</td>\n",
              "      <td>1</td>\n",
              "      <td>1</td>\n",
              "      <td>0</td>\n",
              "    </tr>\n",
              "    <tr>\n",
              "      <th>98048</th>\n",
              "      <td>101762</td>\n",
              "      <td>2</td>\n",
              "      <td>0</td>\n",
              "      <td>9</td>\n",
              "      <td>5</td>\n",
              "      <td>33</td>\n",
              "      <td>3</td>\n",
              "      <td>18</td>\n",
              "      <td>0</td>\n",
              "      <td>8.0</td>\n",
              "      <td>276.00</td>\n",
              "      <td>787.0</td>\n",
              "      <td>0</td>\n",
              "      <td>1</td>\n",
              "      <td>0</td>\n",
              "    </tr>\n",
              "    <tr>\n",
              "      <th>98049</th>\n",
              "      <td>101763</td>\n",
              "      <td>1</td>\n",
              "      <td>1</td>\n",
              "      <td>8</td>\n",
              "      <td>1</td>\n",
              "      <td>53</td>\n",
              "      <td>0</td>\n",
              "      <td>9</td>\n",
              "      <td>0</td>\n",
              "      <td>0.0</td>\n",
              "      <td>590.00</td>\n",
              "      <td>296.0</td>\n",
              "      <td>1</td>\n",
              "      <td>1</td>\n",
              "      <td>0</td>\n",
              "    </tr>\n",
              "    <tr>\n",
              "      <th>98050</th>\n",
              "      <td>101764</td>\n",
              "      <td>1</td>\n",
              "      <td>0</td>\n",
              "      <td>9</td>\n",
              "      <td>10</td>\n",
              "      <td>45</td>\n",
              "      <td>2</td>\n",
              "      <td>21</td>\n",
              "      <td>0</td>\n",
              "      <td>16.0</td>\n",
              "      <td>285.00</td>\n",
              "      <td>998.0</td>\n",
              "      <td>1</td>\n",
              "      <td>1</td>\n",
              "      <td>0</td>\n",
              "    </tr>\n",
              "    <tr>\n",
              "      <th>98051</th>\n",
              "      <td>101765</td>\n",
              "      <td>1</td>\n",
              "      <td>1</td>\n",
              "      <td>8</td>\n",
              "      <td>6</td>\n",
              "      <td>13</td>\n",
              "      <td>3</td>\n",
              "      <td>3</td>\n",
              "      <td>0</td>\n",
              "      <td>8.0</td>\n",
              "      <td>530.00</td>\n",
              "      <td>787.0</td>\n",
              "      <td>0</td>\n",
              "      <td>0</td>\n",
              "      <td>0</td>\n",
              "    </tr>\n",
              "  </tbody>\n",
              "</table>\n",
              "<p>98052 rows × 15 columns</p>\n",
              "</div>\n",
              "      <button class=\"colab-df-convert\" onclick=\"convertToInteractive('df-1f75f8eb-cfd3-414f-88ca-27b612a2b3f7')\"\n",
              "              title=\"Convert this dataframe to an interactive table.\"\n",
              "              style=\"display:none;\">\n",
              "        \n",
              "  <svg xmlns=\"http://www.w3.org/2000/svg\" height=\"24px\"viewBox=\"0 0 24 24\"\n",
              "       width=\"24px\">\n",
              "    <path d=\"M0 0h24v24H0V0z\" fill=\"none\"/>\n",
              "    <path d=\"M18.56 5.44l.94 2.06.94-2.06 2.06-.94-2.06-.94-.94-2.06-.94 2.06-2.06.94zm-11 1L8.5 8.5l.94-2.06 2.06-.94-2.06-.94L8.5 2.5l-.94 2.06-2.06.94zm10 10l.94 2.06.94-2.06 2.06-.94-2.06-.94-.94-2.06-.94 2.06-2.06.94z\"/><path d=\"M17.41 7.96l-1.37-1.37c-.4-.4-.92-.59-1.43-.59-.52 0-1.04.2-1.43.59L10.3 9.45l-7.72 7.72c-.78.78-.78 2.05 0 2.83L4 21.41c.39.39.9.59 1.41.59.51 0 1.02-.2 1.41-.59l7.78-7.78 2.81-2.81c.8-.78.8-2.07 0-2.86zM5.41 20L4 18.59l7.72-7.72 1.47 1.35L5.41 20z\"/>\n",
              "  </svg>\n",
              "      </button>\n",
              "      \n",
              "  <style>\n",
              "    .colab-df-container {\n",
              "      display:flex;\n",
              "      flex-wrap:wrap;\n",
              "      gap: 12px;\n",
              "    }\n",
              "\n",
              "    .colab-df-convert {\n",
              "      background-color: #E8F0FE;\n",
              "      border: none;\n",
              "      border-radius: 50%;\n",
              "      cursor: pointer;\n",
              "      display: none;\n",
              "      fill: #1967D2;\n",
              "      height: 32px;\n",
              "      padding: 0 0 0 0;\n",
              "      width: 32px;\n",
              "    }\n",
              "\n",
              "    .colab-df-convert:hover {\n",
              "      background-color: #E2EBFA;\n",
              "      box-shadow: 0px 1px 2px rgba(60, 64, 67, 0.3), 0px 1px 3px 1px rgba(60, 64, 67, 0.15);\n",
              "      fill: #174EA6;\n",
              "    }\n",
              "\n",
              "    [theme=dark] .colab-df-convert {\n",
              "      background-color: #3B4455;\n",
              "      fill: #D2E3FC;\n",
              "    }\n",
              "\n",
              "    [theme=dark] .colab-df-convert:hover {\n",
              "      background-color: #434B5C;\n",
              "      box-shadow: 0px 1px 3px 1px rgba(0, 0, 0, 0.15);\n",
              "      filter: drop-shadow(0px 1px 2px rgba(0, 0, 0, 0.3));\n",
              "      fill: #FFFFFF;\n",
              "    }\n",
              "  </style>\n",
              "\n",
              "      <script>\n",
              "        const buttonEl =\n",
              "          document.querySelector('#df-1f75f8eb-cfd3-414f-88ca-27b612a2b3f7 button.colab-df-convert');\n",
              "        buttonEl.style.display =\n",
              "          google.colab.kernel.accessAllowed ? 'block' : 'none';\n",
              "\n",
              "        async function convertToInteractive(key) {\n",
              "          const element = document.querySelector('#df-1f75f8eb-cfd3-414f-88ca-27b612a2b3f7');\n",
              "          const dataTable =\n",
              "            await google.colab.kernel.invokeFunction('convertToInteractive',\n",
              "                                                     [key], {});\n",
              "          if (!dataTable) return;\n",
              "\n",
              "          const docLinkHtml = 'Like what you see? Visit the ' +\n",
              "            '<a target=\"_blank\" href=https://colab.research.google.com/notebooks/data_table.ipynb>data table notebook</a>'\n",
              "            + ' to learn more about interactive tables.';\n",
              "          element.innerHTML = '';\n",
              "          dataTable['output_type'] = 'display_data';\n",
              "          await google.colab.output.renderOutput(dataTable, element);\n",
              "          const docLink = document.createElement('div');\n",
              "          docLink.innerHTML = docLinkHtml;\n",
              "          element.appendChild(docLink);\n",
              "        }\n",
              "      </script>\n",
              "    </div>\n",
              "  </div>\n",
              "  "
            ]
          },
          "metadata": {},
          "execution_count": 851
        }
      ]
    },
    {
      "cell_type": "code",
      "source": [
        "#replace diag 2\n",
        "df[\"diag_2\"]=df[\"diag_2\"].apply(lambda x:9 if  x>=580 and x<=629 else x)\n",
        "df[\"diag_2\"]=df[\"diag_2\"].apply(lambda x:10 if  x>=630 and x<=679 else x)\n",
        "df[\"diag_2\"]=df[\"diag_2\"].apply(lambda x:11 if  x>=680 and x<=709 else x)\n",
        "df[\"diag_2\"]=df[\"diag_2\"].apply(lambda x:12 if  x>=710 and x<=739 else x)\n",
        "df[\"diag_2\"]=df[\"diag_2\"].apply(lambda x:13 if  x>=740 and x<=759 else x)\n",
        "df[\"diag_2\"]=df[\"diag_2\"].apply(lambda x:14 if  x>=760 and x<=779 else x)\n",
        "df[\"diag_2\"]=df[\"diag_2\"].apply(lambda x:15 if  x>=780 and x<=799 else x)\n",
        "df[\"diag_2\"]=df[\"diag_2\"].apply(lambda x:16 if  x>=800 and x<=999 else x)\n",
        "df[\"diag_2\"]=df[\"diag_2\"].apply(lambda x:0 if x<=139 else x)\n",
        "df[\"diag_2\"]=df[\"diag_2\"].apply(lambda x:1 if  x>140 and x<=239 else x)\n",
        "df[\"diag_2\"]=df[\"diag_2\"].apply(lambda x:2 if  x>239 and x<=279 else x)\n",
        "df[\"diag_2\"]=df[\"diag_2\"].apply(lambda x:3 if  x>279 and x<=289 else x)\n",
        "df[\"diag_2\"]=df[\"diag_2\"].apply(lambda x:4 if  x>289 and x<=319 else x)\n",
        "df[\"diag_2\"]=df[\"diag_2\"].apply(lambda x:5 if  x>319 and x<=389 else x)\n",
        "df[\"diag_2\"]=df[\"diag_2\"].apply(lambda x:6 if  x>389 and x<=459 else x)\n",
        "df[\"diag_2\"]=df[\"diag_2\"].apply(lambda x:7 if  x>459 and x<=519 else x)\n",
        "df[\"diag_2\"]=df[\"diag_2\"].apply(lambda x:8 if  x>519 and x<=579 else x)"
      ],
      "metadata": {
        "id": "Uo-vuGYwCMbF"
      },
      "execution_count": null,
      "outputs": []
    },
    {
      "cell_type": "code",
      "source": [
        "#replace diag_2\n",
        "df[\"diag_3\"]=df[\"diag_3\"].apply(lambda x:0 if x<=139 else x)\n",
        "df[\"diag_3\"]=df[\"diag_3\"].apply(lambda x:1 if  x>140 and x<=239 else x)\n",
        "df[\"diag_3\"]=df[\"diag_3\"].apply(lambda x:2 if  x>239 and x<=279 else x)\n",
        "df[\"diag_3\"]=df[\"diag_3\"].apply(lambda x:3 if  x>279 and x<=289 else x)\n",
        "df[\"diag_3\"]=df[\"diag_3\"].apply(lambda x:4 if  x>289 and x<=319 else x)\n",
        "df[\"diag_3\"]=df[\"diag_3\"].apply(lambda x:5 if  x>319 and x<=389 else x)\n",
        "df[\"diag_3\"]=df[\"diag_3\"].apply(lambda x:6 if  x>389 and x<=459 else x)\n",
        "df[\"diag_3\"]=df[\"diag_3\"].apply(lambda x:7 if  x>459 and x<=519 else x)\n",
        "df[\"diag_3\"]=df[\"diag_3\"].apply(lambda x:8 if  x>519 and x<=579 else x)\n",
        "df[\"diag_3\"]=df[\"diag_3\"].apply(lambda x:9 if  x>=580 and x<=629 else x)\n",
        "df[\"diag_3\"]=df[\"diag_3\"].apply(lambda x:10 if  x>=630 and x<=679 else x)\n",
        "df[\"diag_3\"]=df[\"diag_3\"].apply(lambda x:11 if  x>=680 and x<=709 else x)\n",
        "df[\"diag_3\"]=df[\"diag_3\"].apply(lambda x:12 if  x>=710 and x<=739 else x)\n",
        "df[\"diag_3\"]=df[\"diag_3\"].apply(lambda x:13 if  x>=740 and x<=759 else x)\n",
        "df[\"diag_3\"]=df[\"diag_3\"].apply(lambda x:14 if  x>=760 and x<=779 else x)\n",
        "df[\"diag_3\"]=df[\"diag_3\"].apply(lambda x:15 if  x>=780 and x<=799 else x)\n",
        "df[\"diag_3\"]=df[\"diag_3\"].apply(lambda x:16 if  x>=800 and x<=999 else x)\n",
        "df"
      ],
      "metadata": {
        "colab": {
          "base_uri": "https://localhost:8080/",
          "height": 505
        },
        "id": "X3qZO5_pCZRm",
        "outputId": "7833ae56-2e18-42ea-9ff6-e127b3009178"
      },
      "execution_count": null,
      "outputs": [
        {
          "output_type": "execute_result",
          "data": {
            "text/plain": [
              "       Unnamed: 0  race  gender  age  time_in_hospital  num_lab_procedures  \\\n",
              "0               1     1       0    2                 3                  59   \n",
              "1               2     2       0    3                 2                  11   \n",
              "2               3     1       1    4                 2                  44   \n",
              "3               4     1       1    5                 1                  51   \n",
              "4               5     1       1    6                 3                  31   \n",
              "...           ...   ...     ...  ...               ...                 ...   \n",
              "98047      101761     2       1    8                 3                  51   \n",
              "98048      101762     2       0    9                 5                  33   \n",
              "98049      101763     1       1    8                 1                  53   \n",
              "98050      101764     1       0    9                10                  45   \n",
              "98051      101765     1       1    8                 6                  13   \n",
              "\n",
              "       num_procedures  num_medications  number_emergency  diag_1  diag_2  \\\n",
              "0                   0               18                 0     2.0     2.0   \n",
              "1                   5               13                 0    10.0     2.0   \n",
              "2                   1               16                 0     0.0     2.0   \n",
              "3                   0                8                 0     1.0     1.0   \n",
              "4                   6               16                 0     6.0     6.0   \n",
              "...               ...              ...               ...     ...     ...   \n",
              "98047               0               16                 0     2.0     4.0   \n",
              "98048               3               18                 0     8.0     2.0   \n",
              "98049               0                9                 0     0.0     0.0   \n",
              "98050               2               21                 0    16.0     3.0   \n",
              "98051               3                3                 0     8.0     8.0   \n",
              "\n",
              "       diag_3  change  diabetesMed  readmitted  \n",
              "0         2.0       1            1           0  \n",
              "1         0.0       0            1           0  \n",
              "2         6.0       1            1           0  \n",
              "3         2.0       1            1           0  \n",
              "4         2.0       0            1           0  \n",
              "...       ...     ...          ...         ...  \n",
              "98047     6.0       1            1           0  \n",
              "98048    15.0       0            1           0  \n",
              "98049     4.0       1            1           0  \n",
              "98050    16.0       1            1           0  \n",
              "98051    15.0       0            0           0  \n",
              "\n",
              "[98052 rows x 15 columns]"
            ],
            "text/html": [
              "\n",
              "  <div id=\"df-1e07d40d-998c-46bf-8d47-bda2cab9ef54\">\n",
              "    <div class=\"colab-df-container\">\n",
              "      <div>\n",
              "<style scoped>\n",
              "    .dataframe tbody tr th:only-of-type {\n",
              "        vertical-align: middle;\n",
              "    }\n",
              "\n",
              "    .dataframe tbody tr th {\n",
              "        vertical-align: top;\n",
              "    }\n",
              "\n",
              "    .dataframe thead th {\n",
              "        text-align: right;\n",
              "    }\n",
              "</style>\n",
              "<table border=\"1\" class=\"dataframe\">\n",
              "  <thead>\n",
              "    <tr style=\"text-align: right;\">\n",
              "      <th></th>\n",
              "      <th>Unnamed: 0</th>\n",
              "      <th>race</th>\n",
              "      <th>gender</th>\n",
              "      <th>age</th>\n",
              "      <th>time_in_hospital</th>\n",
              "      <th>num_lab_procedures</th>\n",
              "      <th>num_procedures</th>\n",
              "      <th>num_medications</th>\n",
              "      <th>number_emergency</th>\n",
              "      <th>diag_1</th>\n",
              "      <th>diag_2</th>\n",
              "      <th>diag_3</th>\n",
              "      <th>change</th>\n",
              "      <th>diabetesMed</th>\n",
              "      <th>readmitted</th>\n",
              "    </tr>\n",
              "  </thead>\n",
              "  <tbody>\n",
              "    <tr>\n",
              "      <th>0</th>\n",
              "      <td>1</td>\n",
              "      <td>1</td>\n",
              "      <td>0</td>\n",
              "      <td>2</td>\n",
              "      <td>3</td>\n",
              "      <td>59</td>\n",
              "      <td>0</td>\n",
              "      <td>18</td>\n",
              "      <td>0</td>\n",
              "      <td>2.0</td>\n",
              "      <td>2.0</td>\n",
              "      <td>2.0</td>\n",
              "      <td>1</td>\n",
              "      <td>1</td>\n",
              "      <td>0</td>\n",
              "    </tr>\n",
              "    <tr>\n",
              "      <th>1</th>\n",
              "      <td>2</td>\n",
              "      <td>2</td>\n",
              "      <td>0</td>\n",
              "      <td>3</td>\n",
              "      <td>2</td>\n",
              "      <td>11</td>\n",
              "      <td>5</td>\n",
              "      <td>13</td>\n",
              "      <td>0</td>\n",
              "      <td>10.0</td>\n",
              "      <td>2.0</td>\n",
              "      <td>0.0</td>\n",
              "      <td>0</td>\n",
              "      <td>1</td>\n",
              "      <td>0</td>\n",
              "    </tr>\n",
              "    <tr>\n",
              "      <th>2</th>\n",
              "      <td>3</td>\n",
              "      <td>1</td>\n",
              "      <td>1</td>\n",
              "      <td>4</td>\n",
              "      <td>2</td>\n",
              "      <td>44</td>\n",
              "      <td>1</td>\n",
              "      <td>16</td>\n",
              "      <td>0</td>\n",
              "      <td>0.0</td>\n",
              "      <td>2.0</td>\n",
              "      <td>6.0</td>\n",
              "      <td>1</td>\n",
              "      <td>1</td>\n",
              "      <td>0</td>\n",
              "    </tr>\n",
              "    <tr>\n",
              "      <th>3</th>\n",
              "      <td>4</td>\n",
              "      <td>1</td>\n",
              "      <td>1</td>\n",
              "      <td>5</td>\n",
              "      <td>1</td>\n",
              "      <td>51</td>\n",
              "      <td>0</td>\n",
              "      <td>8</td>\n",
              "      <td>0</td>\n",
              "      <td>1.0</td>\n",
              "      <td>1.0</td>\n",
              "      <td>2.0</td>\n",
              "      <td>1</td>\n",
              "      <td>1</td>\n",
              "      <td>0</td>\n",
              "    </tr>\n",
              "    <tr>\n",
              "      <th>4</th>\n",
              "      <td>5</td>\n",
              "      <td>1</td>\n",
              "      <td>1</td>\n",
              "      <td>6</td>\n",
              "      <td>3</td>\n",
              "      <td>31</td>\n",
              "      <td>6</td>\n",
              "      <td>16</td>\n",
              "      <td>0</td>\n",
              "      <td>6.0</td>\n",
              "      <td>6.0</td>\n",
              "      <td>2.0</td>\n",
              "      <td>0</td>\n",
              "      <td>1</td>\n",
              "      <td>0</td>\n",
              "    </tr>\n",
              "    <tr>\n",
              "      <th>...</th>\n",
              "      <td>...</td>\n",
              "      <td>...</td>\n",
              "      <td>...</td>\n",
              "      <td>...</td>\n",
              "      <td>...</td>\n",
              "      <td>...</td>\n",
              "      <td>...</td>\n",
              "      <td>...</td>\n",
              "      <td>...</td>\n",
              "      <td>...</td>\n",
              "      <td>...</td>\n",
              "      <td>...</td>\n",
              "      <td>...</td>\n",
              "      <td>...</td>\n",
              "      <td>...</td>\n",
              "    </tr>\n",
              "    <tr>\n",
              "      <th>98047</th>\n",
              "      <td>101761</td>\n",
              "      <td>2</td>\n",
              "      <td>1</td>\n",
              "      <td>8</td>\n",
              "      <td>3</td>\n",
              "      <td>51</td>\n",
              "      <td>0</td>\n",
              "      <td>16</td>\n",
              "      <td>0</td>\n",
              "      <td>2.0</td>\n",
              "      <td>4.0</td>\n",
              "      <td>6.0</td>\n",
              "      <td>1</td>\n",
              "      <td>1</td>\n",
              "      <td>0</td>\n",
              "    </tr>\n",
              "    <tr>\n",
              "      <th>98048</th>\n",
              "      <td>101762</td>\n",
              "      <td>2</td>\n",
              "      <td>0</td>\n",
              "      <td>9</td>\n",
              "      <td>5</td>\n",
              "      <td>33</td>\n",
              "      <td>3</td>\n",
              "      <td>18</td>\n",
              "      <td>0</td>\n",
              "      <td>8.0</td>\n",
              "      <td>2.0</td>\n",
              "      <td>15.0</td>\n",
              "      <td>0</td>\n",
              "      <td>1</td>\n",
              "      <td>0</td>\n",
              "    </tr>\n",
              "    <tr>\n",
              "      <th>98049</th>\n",
              "      <td>101763</td>\n",
              "      <td>1</td>\n",
              "      <td>1</td>\n",
              "      <td>8</td>\n",
              "      <td>1</td>\n",
              "      <td>53</td>\n",
              "      <td>0</td>\n",
              "      <td>9</td>\n",
              "      <td>0</td>\n",
              "      <td>0.0</td>\n",
              "      <td>0.0</td>\n",
              "      <td>4.0</td>\n",
              "      <td>1</td>\n",
              "      <td>1</td>\n",
              "      <td>0</td>\n",
              "    </tr>\n",
              "    <tr>\n",
              "      <th>98050</th>\n",
              "      <td>101764</td>\n",
              "      <td>1</td>\n",
              "      <td>0</td>\n",
              "      <td>9</td>\n",
              "      <td>10</td>\n",
              "      <td>45</td>\n",
              "      <td>2</td>\n",
              "      <td>21</td>\n",
              "      <td>0</td>\n",
              "      <td>16.0</td>\n",
              "      <td>3.0</td>\n",
              "      <td>16.0</td>\n",
              "      <td>1</td>\n",
              "      <td>1</td>\n",
              "      <td>0</td>\n",
              "    </tr>\n",
              "    <tr>\n",
              "      <th>98051</th>\n",
              "      <td>101765</td>\n",
              "      <td>1</td>\n",
              "      <td>1</td>\n",
              "      <td>8</td>\n",
              "      <td>6</td>\n",
              "      <td>13</td>\n",
              "      <td>3</td>\n",
              "      <td>3</td>\n",
              "      <td>0</td>\n",
              "      <td>8.0</td>\n",
              "      <td>8.0</td>\n",
              "      <td>15.0</td>\n",
              "      <td>0</td>\n",
              "      <td>0</td>\n",
              "      <td>0</td>\n",
              "    </tr>\n",
              "  </tbody>\n",
              "</table>\n",
              "<p>98052 rows × 15 columns</p>\n",
              "</div>\n",
              "      <button class=\"colab-df-convert\" onclick=\"convertToInteractive('df-1e07d40d-998c-46bf-8d47-bda2cab9ef54')\"\n",
              "              title=\"Convert this dataframe to an interactive table.\"\n",
              "              style=\"display:none;\">\n",
              "        \n",
              "  <svg xmlns=\"http://www.w3.org/2000/svg\" height=\"24px\"viewBox=\"0 0 24 24\"\n",
              "       width=\"24px\">\n",
              "    <path d=\"M0 0h24v24H0V0z\" fill=\"none\"/>\n",
              "    <path d=\"M18.56 5.44l.94 2.06.94-2.06 2.06-.94-2.06-.94-.94-2.06-.94 2.06-2.06.94zm-11 1L8.5 8.5l.94-2.06 2.06-.94-2.06-.94L8.5 2.5l-.94 2.06-2.06.94zm10 10l.94 2.06.94-2.06 2.06-.94-2.06-.94-.94-2.06-.94 2.06-2.06.94z\"/><path d=\"M17.41 7.96l-1.37-1.37c-.4-.4-.92-.59-1.43-.59-.52 0-1.04.2-1.43.59L10.3 9.45l-7.72 7.72c-.78.78-.78 2.05 0 2.83L4 21.41c.39.39.9.59 1.41.59.51 0 1.02-.2 1.41-.59l7.78-7.78 2.81-2.81c.8-.78.8-2.07 0-2.86zM5.41 20L4 18.59l7.72-7.72 1.47 1.35L5.41 20z\"/>\n",
              "  </svg>\n",
              "      </button>\n",
              "      \n",
              "  <style>\n",
              "    .colab-df-container {\n",
              "      display:flex;\n",
              "      flex-wrap:wrap;\n",
              "      gap: 12px;\n",
              "    }\n",
              "\n",
              "    .colab-df-convert {\n",
              "      background-color: #E8F0FE;\n",
              "      border: none;\n",
              "      border-radius: 50%;\n",
              "      cursor: pointer;\n",
              "      display: none;\n",
              "      fill: #1967D2;\n",
              "      height: 32px;\n",
              "      padding: 0 0 0 0;\n",
              "      width: 32px;\n",
              "    }\n",
              "\n",
              "    .colab-df-convert:hover {\n",
              "      background-color: #E2EBFA;\n",
              "      box-shadow: 0px 1px 2px rgba(60, 64, 67, 0.3), 0px 1px 3px 1px rgba(60, 64, 67, 0.15);\n",
              "      fill: #174EA6;\n",
              "    }\n",
              "\n",
              "    [theme=dark] .colab-df-convert {\n",
              "      background-color: #3B4455;\n",
              "      fill: #D2E3FC;\n",
              "    }\n",
              "\n",
              "    [theme=dark] .colab-df-convert:hover {\n",
              "      background-color: #434B5C;\n",
              "      box-shadow: 0px 1px 3px 1px rgba(0, 0, 0, 0.15);\n",
              "      filter: drop-shadow(0px 1px 2px rgba(0, 0, 0, 0.3));\n",
              "      fill: #FFFFFF;\n",
              "    }\n",
              "  </style>\n",
              "\n",
              "      <script>\n",
              "        const buttonEl =\n",
              "          document.querySelector('#df-1e07d40d-998c-46bf-8d47-bda2cab9ef54 button.colab-df-convert');\n",
              "        buttonEl.style.display =\n",
              "          google.colab.kernel.accessAllowed ? 'block' : 'none';\n",
              "\n",
              "        async function convertToInteractive(key) {\n",
              "          const element = document.querySelector('#df-1e07d40d-998c-46bf-8d47-bda2cab9ef54');\n",
              "          const dataTable =\n",
              "            await google.colab.kernel.invokeFunction('convertToInteractive',\n",
              "                                                     [key], {});\n",
              "          if (!dataTable) return;\n",
              "\n",
              "          const docLinkHtml = 'Like what you see? Visit the ' +\n",
              "            '<a target=\"_blank\" href=https://colab.research.google.com/notebooks/data_table.ipynb>data table notebook</a>'\n",
              "            + ' to learn more about interactive tables.';\n",
              "          element.innerHTML = '';\n",
              "          dataTable['output_type'] = 'display_data';\n",
              "          await google.colab.output.renderOutput(dataTable, element);\n",
              "          const docLink = document.createElement('div');\n",
              "          docLink.innerHTML = docLinkHtml;\n",
              "          element.appendChild(docLink);\n",
              "        }\n",
              "      </script>\n",
              "    </div>\n",
              "  </div>\n",
              "  "
            ]
          },
          "metadata": {},
          "execution_count": 853
        }
      ]
    },
    {
      "cell_type": "code",
      "source": [
        "df1=pd.read_csv(\"/content/drive/MyDrive/sairam.csv\")\n",
        "df1.drop(columns=\"diag_2\",axis=1,inplace=True)\n",
        "df1.drop(columns=\"diag_3\",axis=1,inplace=True)"
      ],
      "metadata": {
        "id": "3b0IghDgHwlb"
      },
      "execution_count": null,
      "outputs": []
    },
    {
      "cell_type": "code",
      "source": [
        "X = df1.iloc[:, :-1].values\n",
        "y = df1.iloc[:, -1].values"
      ],
      "metadata": {
        "id": "toCeumW2IGrK"
      },
      "execution_count": null,
      "outputs": []
    },
    {
      "cell_type": "code",
      "source": [
        "from sklearn.model_selection import train_test_split\n",
        "X_train, X_test, y_train, y_test = train_test_split(X, y,test_size=0.20, random_state = 0)\n",
        "print(X_train)\n",
        "print(y_train)\n",
        "print(X_test)\n",
        "print(y_test)"
      ],
      "metadata": {
        "colab": {
          "base_uri": "https://localhost:8080/"
        },
        "id": "Oc0XEaCPIKnq",
        "outputId": "6e797c69-ca1b-4b24-efc2-afc67ad91862"
      },
      "execution_count": null,
      "outputs": [
        {
          "output_type": "stream",
          "name": "stdout",
          "text": [
            "[[ 1  1  4 ...  8  1  1]\n",
            " [ 2  1  8 ...  8  1  1]\n",
            " [ 1  0  6 ...  7  1  1]\n",
            " ...\n",
            " [ 1  0  8 ...  7  1  1]\n",
            " [ 1  0  8 ...  7  1  1]\n",
            " [ 1  1  8 ... 15  1  1]]\n",
            "[0 0 0 ... 0 0 1]\n",
            "[[ 1  1  8 ...  6  1  1]\n",
            " [ 2  1  6 ... 15  0  1]\n",
            " [ 1  1  8 ... 16  0  0]\n",
            " ...\n",
            " [ 2  0  8 ...  1  0  0]\n",
            " [ 1  0  6 ...  4  0  1]\n",
            " [ 1  0 10 ... 15  1  1]]\n",
            "[0 0 1 ... 0 0 0]\n"
          ]
        }
      ]
    },
    {
      "cell_type": "code",
      "source": [
        "#feature scaling\n",
        "from sklearn.preprocessing import StandardScaler\n",
        "sc = StandardScaler()\n",
        "X_train = sc.fit_transform(X_train)\n",
        "X_test = sc.transform(X_test)\n",
        "print(X_train)\n",
        "print(X_test)"
      ],
      "metadata": {
        "colab": {
          "base_uri": "https://localhost:8080/"
        },
        "id": "12vfAkKDIg_j",
        "outputId": "827a9cfe-887c-48cf-975e-1f5216796bd5"
      },
      "execution_count": null,
      "outputs": [
        {
          "output_type": "stream",
          "name": "stdout",
          "text": [
            "[[-0.45438743  1.07911387 -2.00000386 ...  0.16183918  1.08263507\n",
            "   0.55158096]\n",
            " [ 0.99473456  1.07911387  0.5636838  ...  0.16183918  1.08263507\n",
            "   0.55158096]\n",
            " [-0.45438743 -0.92668626 -0.71816003 ... -0.06708619  1.08263507\n",
            "   0.55158096]\n",
            " ...\n",
            " [-0.45438743 -0.92668626  0.5636838  ... -0.06708619  1.08263507\n",
            "   0.55158096]\n",
            " [-0.45438743 -0.92668626  0.5636838  ... -0.06708619  1.08263507\n",
            "   0.55158096]\n",
            " [-0.45438743  1.07911387  0.5636838  ...  1.76431677  1.08263507\n",
            "   0.55158096]]\n",
            "[[-0.45438743  1.07911387  0.5636838  ... -0.29601156  1.08263507\n",
            "   0.55158096]\n",
            " [ 0.99473456  1.07911387 -0.71816003 ...  1.76431677 -0.92367228\n",
            "   0.55158096]\n",
            " [-0.45438743  1.07911387  0.5636838  ...  1.99324214 -0.92367228\n",
            "  -1.81297048]\n",
            " ...\n",
            " [ 0.99473456 -0.92668626  0.5636838  ... -1.4406384  -0.92367228\n",
            "  -1.81297048]\n",
            " [-0.45438743 -0.92668626 -0.71816003 ... -0.75386229 -0.92367228\n",
            "   0.55158096]\n",
            " [-0.45438743 -0.92668626  1.84552764 ...  1.76431677  1.08263507\n",
            "   0.55158096]]\n"
          ]
        }
      ]
    },
    {
      "cell_type": "code",
      "source": [
        "from sklearn.tree import DecisionTreeClassifier\n",
        "classifier = DecisionTreeClassifier(criterion = 'entropy', random_state = 0)\n",
        "classifier.fit(X_train, y_train)\n"
      ],
      "metadata": {
        "colab": {
          "base_uri": "https://localhost:8080/"
        },
        "id": "mOyk3251ImZC",
        "outputId": "0737bfaf-96d4-4724-a958-297eed254757"
      },
      "execution_count": null,
      "outputs": [
        {
          "output_type": "execute_result",
          "data": {
            "text/plain": [
              "DecisionTreeClassifier(criterion='entropy', random_state=0)"
            ]
          },
          "metadata": {},
          "execution_count": 858
        }
      ]
    },
    {
      "cell_type": "code",
      "source": [
        "y_pred = classifier.predict(X_test)\n",
        "print(np.concatenate((y_pred.reshape(len(y_pred),1), y_test.reshape(len(y_test),1)),1))"
      ],
      "metadata": {
        "colab": {
          "base_uri": "https://localhost:8080/"
        },
        "id": "UDq365KKIpqd",
        "outputId": "1d5be5fb-45a6-4bea-838a-08114bc25b71"
      },
      "execution_count": null,
      "outputs": [
        {
          "output_type": "stream",
          "name": "stdout",
          "text": [
            "[[0 0]\n",
            " [0 0]\n",
            " [0 1]\n",
            " ...\n",
            " [0 0]\n",
            " [0 0]\n",
            " [1 0]]\n"
          ]
        }
      ]
    },
    {
      "cell_type": "code",
      "source": [
        "# Making the Confusion Matrix\n",
        "from sklearn.metrics import confusion_matrix, accuracy_score\n",
        "cm = confusion_matrix(y_test, y_pred)\n",
        "print(cm)\n",
        "accuracy_score(y_test, y_pred)"
      ],
      "metadata": {
        "colab": {
          "base_uri": "https://localhost:8080/"
        },
        "id": "34K7-gCWIs-a",
        "outputId": "9f26897f-febc-43e7-f9cb-ffae1921a400"
      },
      "execution_count": null,
      "outputs": [
        {
          "output_type": "stream",
          "name": "stdout",
          "text": [
            "[[15182  2209]\n",
            " [ 1903   317]]\n"
          ]
        },
        {
          "output_type": "execute_result",
          "data": {
            "text/plain": [
              "0.7903217581969303"
            ]
          },
          "metadata": {},
          "execution_count": 860
        }
      ]
    },
    {
      "cell_type": "code",
      "source": [
        "from sklearn.ensemble import RandomForestClassifier\n",
        "model=RandomForestClassifier(criterion = 'entropy',random_state=0)\n",
        "model.fit(X_train, y_train)\n"
      ],
      "metadata": {
        "colab": {
          "base_uri": "https://localhost:8080/"
        },
        "id": "hJbkxABZJbJ0",
        "outputId": "3a17a79f-4f6b-470c-83ce-11ff81abae74"
      },
      "execution_count": null,
      "outputs": [
        {
          "output_type": "execute_result",
          "data": {
            "text/plain": [
              "RandomForestClassifier(criterion='entropy', random_state=0)"
            ]
          },
          "metadata": {},
          "execution_count": 827
        }
      ]
    },
    {
      "cell_type": "code",
      "source": [
        "y_pred = model.predict(X_test)\n",
        "print(np.concatenate((y_pred.reshape(len(y_pred),1), y_test.reshape(len(y_test),1)),1))"
      ],
      "metadata": {
        "colab": {
          "base_uri": "https://localhost:8080/"
        },
        "id": "ByR-kYgFMXCv",
        "outputId": "0de4694c-226e-4150-9c50-61488beb8b95"
      },
      "execution_count": null,
      "outputs": [
        {
          "output_type": "stream",
          "name": "stdout",
          "text": [
            "[[0 0]\n",
            " [0 0]\n",
            " [0 1]\n",
            " ...\n",
            " [0 0]\n",
            " [0 0]\n",
            " [0 0]]\n"
          ]
        }
      ]
    },
    {
      "cell_type": "code",
      "source": [
        "# Making the Confusion Matrix\n",
        "from sklearn.metrics import confusion_matrix, accuracy_score\n",
        "cm = confusion_matrix(y_test, y_pred)\n",
        "print(cm)\n",
        "accuracy_score(y_test, y_pred)"
      ],
      "metadata": {
        "colab": {
          "base_uri": "https://localhost:8080/"
        },
        "id": "mAgDFbOMLk0H",
        "outputId": "ed24cdb4-cb6d-42ac-b5fa-ed7d63634994"
      },
      "execution_count": null,
      "outputs": [
        {
          "output_type": "stream",
          "name": "stdout",
          "text": [
            "[[17353    38]\n",
            " [ 2211     9]]\n"
          ]
        },
        {
          "output_type": "execute_result",
          "data": {
            "text/plain": [
              "0.8853194635663658"
            ]
          },
          "metadata": {},
          "execution_count": 829
        }
      ]
    },
    {
      "cell_type": "code",
      "source": [
        "def train(model,x,y):\n",
        "    x_train,x_test,y_train,y_test=train_test_split(x,y,random_state=42)\n",
        "    model.fit(x_train,y_train)\n",
        "    pred=model.predict(x_test)\n",
        "    # cv_score= cross_val_score(model,x,y,cv=3,scoring=\"accuracy\").mean()\n",
        "    acc=accuracy_score(y_test,pred)\n",
        "    # print(\"CV_score: \",cv_score)\n",
        "    print(\"ACCURACY: \",acc)\n",
        "    print(confusion_matrix(y_test,pred))"
      ],
      "metadata": {
        "id": "Fp7FASceNY3B"
      },
      "execution_count": null,
      "outputs": []
    },
    {
      "cell_type": "code",
      "source": [
        "from sklearn.ensemble import RandomForestClassifier\n",
        "model=RandomForestClassifier(criterion = 'entropy',random_state=0)\n",
        "train(model,X_train, y_train)"
      ],
      "metadata": {
        "colab": {
          "base_uri": "https://localhost:8080/"
        },
        "id": "2Rz-7u3dNeH4",
        "outputId": "df8d7059-ffb5-45ff-b03a-3abab1cba316"
      },
      "execution_count": null,
      "outputs": [
        {
          "output_type": "stream",
          "name": "stdout",
          "text": [
            "ACCURACY:  0.8849625210341135\n",
            "[[17347    25]\n",
            " [ 2231     8]]\n"
          ]
        }
      ]
    },
    {
      "cell_type": "code",
      "source": [
        "from sklearn.naive_bayes import GaussianNB\n",
        "from sklearn.metrics import accuracy_score"
      ],
      "metadata": {
        "id": "OqPz_vcjPWnA"
      },
      "execution_count": null,
      "outputs": []
    },
    {
      "cell_type": "code",
      "source": [
        "model = GaussianNB()\n",
        "\n",
        "# fit the model with the training data\n",
        "model.fit(X_train, y_train)\n"
      ],
      "metadata": {
        "colab": {
          "base_uri": "https://localhost:8080/"
        },
        "id": "iDBsLIudPiKe",
        "outputId": "6004492a-2983-43d1-df60-8b6e020aa6ed"
      },
      "execution_count": null,
      "outputs": [
        {
          "output_type": "execute_result",
          "data": {
            "text/plain": [
              "GaussianNB()"
            ]
          },
          "metadata": {},
          "execution_count": 833
        }
      ]
    },
    {
      "cell_type": "code",
      "source": [
        "# predict the target on the train dataset\n",
        "predict_train = model.predict(X_train)\n",
        "print('Target on train data',predict_train) "
      ],
      "metadata": {
        "colab": {
          "base_uri": "https://localhost:8080/"
        },
        "id": "0xcMF8LMRKiw",
        "outputId": "b98f4925-f810-4293-f04d-79ccfe5475ba"
      },
      "execution_count": null,
      "outputs": [
        {
          "output_type": "stream",
          "name": "stdout",
          "text": [
            "Target on train data [0 0 0 ... 0 0 0]\n"
          ]
        }
      ]
    },
    {
      "cell_type": "code",
      "source": [
        "# Accuray Score on train dataset\n",
        "accuracy_train = accuracy_score(y_train,predict_train)\n",
        "print('accuracy_score on train dataset : ', accuracy_train)"
      ],
      "metadata": {
        "colab": {
          "base_uri": "https://localhost:8080/"
        },
        "id": "yEA3alp7RNR9",
        "outputId": "9a06be27-4506-44b0-9893-6e6ff3a24b63"
      },
      "execution_count": null,
      "outputs": [
        {
          "output_type": "stream",
          "name": "stdout",
          "text": [
            "accuracy_score on train dataset :  0.8785839038258054\n"
          ]
        }
      ]
    },
    {
      "cell_type": "code",
      "source": [
        "# predict the target on the test dataset\n",
        "predict_test = model.predict(X_test)\n",
        "print('Target on test data',predict_test)"
      ],
      "metadata": {
        "colab": {
          "base_uri": "https://localhost:8080/"
        },
        "id": "EoJxRp5cQpvG",
        "outputId": "07fd07b1-8c75-4148-9485-effdda4213cb"
      },
      "execution_count": null,
      "outputs": [
        {
          "output_type": "stream",
          "name": "stdout",
          "text": [
            "Target on test data [0 0 0 ... 0 0 0]\n"
          ]
        }
      ]
    },
    {
      "cell_type": "code",
      "source": [
        "#  Accuracy Score on test dataset\n",
        "accuracy_test = accuracy_score(y_test,predict_test)\n",
        "print('accuracy_score on test dataset : ', accuracy_test)"
      ],
      "metadata": {
        "colab": {
          "base_uri": "https://localhost:8080/"
        },
        "id": "r6K3S5SrQ9Ix",
        "outputId": "e82c1be7-3bad-4dec-cfcd-38bbab4c7d5e"
      },
      "execution_count": null,
      "outputs": [
        {
          "output_type": "stream",
          "name": "stdout",
          "text": [
            "accuracy_score on test dataset :  0.8796593748406507\n"
          ]
        }
      ]
    }
  ]
}